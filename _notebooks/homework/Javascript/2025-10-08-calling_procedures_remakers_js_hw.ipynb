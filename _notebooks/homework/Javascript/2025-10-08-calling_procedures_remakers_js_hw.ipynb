{
 "cells": [
  {
   "cell_type": "raw",
   "id": "7b98ce38",
   "metadata": {
    "vscode": {
     "languageId": "raw"
    }
   },
   "source": [
    "---\n",
    "toc: true\n",
    "comments: false\n",
    "layout: post\n",
    "categories: [CSP Big Idea 3]\n",
    "title: 3.12 Calling Procedures JavaScript Hacks\n",
    "author: Sathwik Kintada\n",
    "description: 3.12 Calling Procedures JS hacks\n",
    "permalink: /csp/big-idea-3/calling-procedures/p4/hw-js\n",
    "---"
   ]
  },
  {
   "cell_type": "markdown",
   "id": "160c3d0a",
   "metadata": {},
   "source": [
    "\n",
    "# 3.12 Calling Procedures Homework in JavaScript\n",
    "\n",
    "Complete the 4 tasks below as homework:\n",
    "\n",
    "1. Create the functions \n",
    "2. Run the Code cell\n",
    "4. Have fun!\n"
   ]
  },
  {
   "cell_type": "markdown",
   "id": "ebf0a264",
   "metadata": {},
   "source": [
    "**Hack — Example 1: Simple function with no parameters**"
   ]
  },
  {
   "cell_type": "code",
   "execution_count": 2,
   "id": "112c4252",
   "metadata": {},
   "outputs": [
    {
     "name": "stdout",
     "output_type": "stream",
     "text": [
      "Hello there!\n"
     ]
    }
   ],
   "source": [
    "\n",
    "// TODO: Call sayHello to print \"Hello there!\"\n",
    "function sayHello() {\n",
    "    console.log(\"Hello there!\");\n",
    "}\n",
    "\n",
    "// Call the function\n",
    "sayHello();"
   ]
  },
  {
   "cell_type": "markdown",
   "id": "17ab185e",
   "metadata": {},
   "source": [
    "- Does the code run as expected?\n",
    "- If yes, move on to the next hack."
   ]
  },
  {
   "cell_type": "markdown",
   "id": "e9083de7",
   "metadata": {},
   "source": [
    "**Hack — Example 2: Function with one parameter**"
   ]
  },
  {
   "cell_type": "code",
   "execution_count": 3,
   "id": "5575c3fd",
   "metadata": {},
   "outputs": [
    {
     "name": "stdout",
     "output_type": "stream",
     "text": [
      "Welcome, Student!\n"
     ]
    }
   ],
   "source": [
    "// TODO: Call greet with your name to welcome the student\n",
    "function greet(name) {\n",
    "    console.log(`Welcome, ${name}!`);\n",
    "}\n",
    "\n",
    "// Call the function with your name\n",
    "greet('Student');"
   ]
  },
  {
   "cell_type": "markdown",
   "id": "42d3e631",
   "metadata": {},
   "source": [
    "- Does your code properly greet the person?\n",
    "- Are there no errors in your code?\n",
    "- If yes, move on to the next hack."
   ]
  },
  {
   "cell_type": "markdown",
   "id": "501df5a2",
   "metadata": {},
   "source": [
    "**Hack — Example 3: Function with two parameters**"
   ]
  },
  {
   "cell_type": "code",
   "execution_count": 6,
   "id": "342675e4",
   "metadata": {},
   "outputs": [
    {
     "name": "stdout",
     "output_type": "stream",
     "text": [
      "10\n"
     ]
    }
   ],
   "source": [
    "// TODO: Call addNumbers with two numbers to print their sum\n",
    "function addNumbers(a, b) {\n",
    "    console.log(a + b);\n",
    "}\n",
    "\n",
    "// Call the function with two numbers\n",
    "addNumbers(3, 7);"
   ]
  },
  {
   "cell_type": "markdown",
   "id": "aec74a73",
   "metadata": {},
   "source": [
    "- Does addNumbers(3, 7) give 10?\n",
    "- Does it work for other numbers too?\n",
    "- If yes, move on to the next hack."
   ]
  },
  {
   "cell_type": "markdown",
   "id": "05f1bdf5",
   "metadata": {},
   "source": [
    "**Hack — Example 4: Function that returns a value**"
   ]
  },
  {
   "cell_type": "code",
   "execution_count": 7,
   "id": "8a91b5b9",
   "metadata": {},
   "outputs": [
    {
     "name": "stdout",
     "output_type": "stream",
     "text": [
      "Testing factorial function:\n",
      "factorial(0) = 1\n",
      "factorial(1) = 1\n",
      "factorial(5) = 120\n",
      "\n",
      "Stored result: 120\n"
     ]
    }
   ],
   "source": [
    "// TODO: Implement factorial(n) to return n!\n",
    "function factorial(n) {\n",
    "    if (n === 0 || n === 1) {\n",
    "        return 1;\n",
    "    }\n",
    "    \n",
    "    let result = 1;\n",
    "    for (let i = 2; i <= n; i++) {\n",
    "        result *= i;\n",
    "    }\n",
    "    return result;\n",
    "}\n",
    "\n",
    "// Example: factorial(5) should return 120\n",
    "// const result = factorial(5);\n",
    "\n",
    "// Test the function\n",
    "console.log(\"Testing factorial function:\");\n",
    "console.log(\"factorial(0) =\", factorial(0)); // Should return 1\n",
    "console.log(\"factorial(1) =\", factorial(1)); // Should return 1\n",
    "console.log(\"factorial(5) =\", factorial(5)); // Should return 120\n",
    "\n",
    "const result = factorial(5);\n",
    "console.log(\"\\nStored result:\", result);"
   ]
  },
  {
   "cell_type": "markdown",
   "id": "f2c9f82a",
   "metadata": {},
   "source": [
    "- Does factorial(0) return 1?\n",
    "- Does factorial(1) return 1?\n",
    "- Does factorial(5) return 120?\n",
    "- If yes, move on to the next hack."
   ]
  },
  {
   "cell_type": "markdown",
   "id": "4a7a8ee2",
   "metadata": {},
   "source": [
    "**Hack - Challenge Example 5: Function calling another function**"
   ]
  },
  {
   "cell_type": "code",
   "execution_count": 8,
   "id": "1c57fa10",
   "metadata": {},
   "outputs": [
    {
     "name": "stdout",
     "output_type": "stream",
     "text": [
      "Test 1: 2 apples, 1 milk, 1 bread\n",
      "Subtotal: $8.00\n",
      "Total (with 8% tax): $8.64\n",
      "\n",
      "Test 2: 3 bananas, 2 milk\n",
      "Subtotal: $9.25\n",
      "Total (with 8% tax): $9.99\n"
     ]
    }
   ],
   "source": [
    "// Dictionary (object) of items and their prices\n",
    "const storeItems = {\n",
    "    apple: 1.25,\n",
    "    banana: 0.75,\n",
    "    milk: 3.5,\n",
    "    bread: 2.0\n",
    "};\n",
    "\n",
    "// Function 1: calculate subtotal\n",
    "function getSubtotal(cart) {\n",
    "    /*\n",
    "    Takes an object of items {item: quantity}\n",
    "    and returns the total before tax.\n",
    "    */\n",
    "    let subtotal = 0;\n",
    "    // TODO: for each item in cart:\n",
    "    // - find its price in storeItems\n",
    "    // - multiply by quantity\n",
    "    // - add to subtotal\n",
    "    \n",
    "    for (let item in cart) {\n",
    "        let price = storeItems[item];\n",
    "        let quantity = cart[item];\n",
    "        subtotal += price * quantity;\n",
    "    }\n",
    "    \n",
    "    return subtotal;\n",
    "}\n",
    "\n",
    "// Function 2: add tax\n",
    "function addTax(subtotal, taxRate) {\n",
    "    /*\n",
    "    Takes subtotal and tax rate (like 0.08 for 8%)\n",
    "    and returns the total with tax.\n",
    "    */\n",
    "    // TODO: calculate total with tax and return it\n",
    "    return subtotal * (1 + taxRate);\n",
    "}\n",
    "\n",
    "// Function 3: checkout\n",
    "function checkout(cart, taxRate) {\n",
    "    /*\n",
    "    Calls getSubtotal() and addTax()\n",
    "    to print subtotal and final total.\n",
    "    */\n",
    "    // TODO: get subtotal using getSubtotal(cart)\n",
    "    // TODO: get total using addTax(subtotal, taxRate)\n",
    "    // TODO: log both subtotal and total\n",
    "    \n",
    "    let subtotal = getSubtotal(cart);\n",
    "    let total = addTax(subtotal, taxRate);\n",
    "    \n",
    "    console.log(`Subtotal: $${subtotal.toFixed(2)}`);\n",
    "    console.log(`Total (with ${(taxRate * 100)}% tax): $${total.toFixed(2)}`);\n",
    "}\n",
    "\n",
    "// Example cart for testing\n",
    "const myCart = {\n",
    "    apple: 2,\n",
    "    milk: 1,\n",
    "    bread: 1\n",
    "};\n",
    "\n",
    "// TODO: call checkout(myCart, 0.08)\n",
    "console.log(\"Test 1: 2 apples, 1 milk, 1 bread\");\n",
    "checkout(myCart, 0.08);\n",
    "\n",
    "console.log(\"\\nTest 2: 3 bananas, 2 milk\");\n",
    "checkout({ banana: 3, milk: 2 }, 0.08);"
   ]
  },
  {
   "cell_type": "markdown",
   "id": "3994dc3f",
   "metadata": {},
   "source": [
    "- If the shopping cart contains 2 apples, 1 milk, and 1 bread, will your program show a subtotal of $8.00 and a total of $8.64 with an 8% tax rate?\n",
    "- Try changing the cart to 3 bananas and 2 milk — should the subtotal be $10.25 and the total with 8% tax be $11.07?\n",
    "- If your output matches these totals, your function calls and calculations are correct!"
   ]
  }
 ],
 "metadata": {
  "kernelspec": {
   "display_name": "JavaScript",
   "language": "javascript",
   "name": "jslab"
  },
  "language_info": {
   "file_extension": ".js",
   "mimetype": "text/javascript",
   "name": "javascript",
   "version": ""
  }
 },
 "nbformat": 4,
 "nbformat_minor": 5
}
