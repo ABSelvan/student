{
 "cells": [
  {
   "cell_type": "raw",
   "id": "347e901f",
   "metadata": {
    "vscode": {
     "languageId": "raw"
    }
   },
   "source": [
    "---\n",
    "toc: true\n",
    "layout: post\n",
    "categories: [JavaScript]\n",
    "title: Remakers - 3.13 Developing Procedures JS Hacks\n",
    "description: \"Apply your skills to basic procedure development in Javascript.\"\n",
    "permalink: /javascript/developing-procedures/remakers-hw\n",
    "author: Krishna Visvanath, Sloane Sommers\n",
    "---"
   ]
  },
  {
   "cell_type": "raw",
   "id": "38483feb",
   "metadata": {
    "vscode": {
     "languageId": "raw"
    }
   },
   "source": [
    "### Q1 (Easy)\n",
    "Which of these procedures is named wrong, provide a **short** explanation of justification"
   ]
  },
  {
   "cell_type": "code",
   "execution_count": null,
   "id": "690e6f19",
   "metadata": {},
   "outputs": [],
   "source": [
    "%%js\n",
    "\n",
    "function mixIngredients()\n",
    "\n",
    "function doIt()\n",
    "\n",
    "function makeLeftTurn()"
   ]
  },
  {
   "cell_type": "markdown",
   "id": "bff45a3e",
   "metadata": {},
   "source": [
    "**Explanation Here:**\n",
    "function doIt()is named wrong because the naming of the fuction is too vague and unspecific."
   ]
  },
  {
   "cell_type": "markdown",
   "id": "e5480b09",
   "metadata": {},
   "source": [
    "### Q2 (Medium)\n",
    "Finish the code to have a correctly named procedure"
   ]
  },
  {
   "cell_type": "code",
   "execution_count": 1,
   "id": "4bc531e4",
   "metadata": {},
   "outputs": [
    {
     "name": "stdout",
     "output_type": "stream",
     "text": [
      "Moving forward.\n",
      "Turning left.\n",
      "Moving forward.\n"
     ]
    }
   ],
   "source": [
    "function makeLeftTurn() {\n",
    "    moveForward();\n",
    "    rotateLeft();\n",
    "    moveForward();\n",
    "}\n",
    "\n",
    "// Define supporting procedures\n",
    "function moveForward() {\n",
    "    console.log(\"Moving forward.\");\n",
    "}\n",
    "\n",
    "function rotateLeft() {\n",
    "    console.log(\"Turning left.\");\n",
    "}\n",
    "\n",
    "function moveForwardAgain() {\n",
    "    console.log(\"Moving forward again to complete left turn.\");\n",
    "}\n",
    "\n",
    "// Run the procedure\n",
    "makeLeftTurn();\n"
   ]
  },
  {
   "cell_type": "code",
   "execution_count": null,
   "id": "d6c06eb0",
   "metadata": {},
   "outputs": [],
   "source": [
    "### Q3 (Hard)\n",
    "Write code to fulfill the requirements\n",
    "Doing a dance! 🕺💃\n",
    "Must have\n",
    "1. A shimmy left procedure\n",
    "- Print `super cool left slide`\n",
    "2. A shimmy right procedure, print `even cooler right slide`\n",
    "3. Doing a bow to the crowd, print `Great dance!`, `the audience claps at your bow!`"
   ]
  },
  {
   "cell_type": "code",
   "execution_count": 2,
   "id": "818139d1",
   "metadata": {},
   "outputs": [
    {
     "name": "stdout",
     "output_type": "stream",
     "text": [
      "super cool left slide\n",
      "even cooler right slide\n",
      "Great dance!\n",
      "The audience claps at your bow!\n"
     ]
    }
   ],
   "source": [
    "//Code away!\n",
    "\n",
    "function shimmyLeft() {\n",
    "    console.log(\"super cool left slide\");\n",
    "}\n",
    "\n",
    "function shimmyRight() {\n",
    "    console.log(\"even cooler right slide\");\n",
    "}\n",
    "\n",
    "function bowToCrowd() {\n",
    "    console.log(\"Great dance!\");\n",
    "    console.log(\"The audience claps at your bow!\");\n",
    "}\n",
    "\n",
    "// Run the dance routine\n",
    "shimmyLeft();\n",
    "shimmyRight();\n",
    "bowToCrowd();\n"
   ]
  }
 ],
 "metadata": {
  "kernelspec": {
   "display_name": "JavaScript",
   "language": "javascript",
   "name": "jslab"
  },
  "language_info": {
   "file_extension": ".js",
   "mimetype": "text/javascript",
   "name": "javascript",
   "version": ""
  }
 },
 "nbformat": 4,
 "nbformat_minor": 5
}
