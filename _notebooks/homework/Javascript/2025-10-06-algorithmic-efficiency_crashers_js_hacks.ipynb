{
 "cells": [
  {
   "cell_type": "raw",
   "id": "4e3e77eb",
   "metadata": {
    "vscode": {
     "languageId": "raw"
    }
   },
   "source": [
    "---\n",
    "layout: post\n",
    "title: \"Crashers - 3.17 Algorithmic Efficiency Javascript Hacks\"\n",
    "categories: [Javascript]\n",
    "tags: [python, javascript, algorithms, lesson, beginner]\n",
    "description: Learn about algorithms and how they can be more or less efficient\n",
    "permalink: /javascript/algorithmic-efficiency/crashers-hw\n",
    "---"
   ]
  },
  {
   "cell_type": "markdown",
   "id": "825f983c",
   "metadata": {},
   "source": [
    "## Algorithmic Efficiency Hacks: Javascript\n",
    "\n",
    "Let's test your knowledge on algorithmic efficiency!\n",
    "\n",
    "### Hack 1: How Much Time?\n",
    "\n",
    "#### Objective: write the time complexity of the algorithm below using Big-O notation.\n",
    "(don't worry about special cases such as n = 1 or n = 0)."
   ]
  },
  {
   "cell_type": "code",
   "execution_count": 1,
   "id": "1fc4bcce",
   "metadata": {},
   "outputs": [
    {
     "name": "stdout",
     "output_type": "stream",
     "text": [
      "0\n",
      "1\n",
      "2\n",
      "3\n",
      "4\n",
      "5\n",
      "6\n",
      "7\n",
      "8\n",
      "9\n",
      "10\n",
      "11\n",
      "12\n",
      "13\n",
      "14\n",
      "15\n",
      "16\n",
      "17\n",
      "18\n",
      "19\n",
      "\n",
      "Time Complexity: O(n)\n",
      "\n",
      "Explanation:\n",
      "- The loop runs from i = 0 to i < n * 2\n",
      "- This means it iterates 2n times\n",
      "- Each iteration does O(1) work: console.log(i)\n",
      "- Total: O(2n)\n",
      "- In Big-O notation, we drop constant factors\n",
      "- Therefore: O(2n) = O(n)\n"
     ]
    }
   ],
   "source": [
    "let n = 10; // change this value to test different outputs!\n",
    "\n",
    "for (let i = 0; i < n * 2; i++) {\n",
    "    console.log(i);\n",
    "}\n",
    "\n",
    "//TODO: print the above algorithm's time complexity\n",
    "//BE CAREFUL - This one might trick some people. Remember that Big-O notation shows how much an algorithm's time complexity GROWS as input size increases.\n",
    "\n",
    "console.log(\"\\nTime Complexity: O(n)\");\n",
    "console.log(\"\\nExplanation:\");\n",
    "console.log(\"- The loop runs from i = 0 to i < n * 2\");\n",
    "console.log(\"- This means it iterates 2n times\");\n",
    "console.log(\"- Each iteration does O(1) work: console.log(i)\");\n",
    "console.log(\"- Total: O(2n)\");\n",
    "console.log(\"- In Big-O notation, we drop constant factors\");\n",
    "console.log(\"- Therefore: O(2n) = O(n)\");"
   ]
  },
  {
   "cell_type": "markdown",
   "id": "4e562838",
   "metadata": {},
   "source": [
    "### Hack 2: Your Turn!\n",
    "\n",
    "#### Objective: <strong>write</strong> an algorithm with O(n^2) time complexity."
   ]
  },
  {
   "cell_type": "code",
   "execution_count": 2,
   "id": "f9394969",
   "metadata": {},
   "outputs": [
    {
     "name": "stdout",
     "output_type": "stream",
     "text": [
      "Pair: (0, 0)\n",
      "Pair: (0, 1)\n",
      "Pair: (0, 2)\n",
      "Pair: (0, 3)\n",
      "Pair: (0, 4)\n",
      "Pair: (0, 5)\n",
      "Pair: (0, 6)\n",
      "Pair: (0, 7)\n",
      "Pair: (0, 8)\n",
      "Pair: (0, 9)\n",
      "Pair: (1, 0)\n",
      "Pair: (1, 1)\n",
      "Pair: (1, 2)\n",
      "Pair: (1, 3)\n",
      "Pair: (1, 4)\n",
      "Pair: (1, 5)\n",
      "Pair: (1, 6)\n",
      "Pair: (1, 7)\n",
      "Pair: (1, 8)\n",
      "Pair: (1, 9)\n",
      "Pair: (2, 0)\n",
      "Pair: (2, 1)\n",
      "Pair: (2, 2)\n",
      "Pair: (2, 3)\n",
      "Pair: (2, 4)\n",
      "Pair: (2, 5)\n",
      "Pair: (2, 6)\n",
      "Pair: (2, 7)\n",
      "Pair: (2, 8)\n",
      "Pair: (2, 9)\n",
      "Pair: (3, 0)\n",
      "Pair: (3, 1)\n",
      "Pair: (3, 2)\n",
      "Pair: (3, 3)\n",
      "Pair: (3, 4)\n",
      "Pair: (3, 5)\n",
      "Pair: (3, 6)\n",
      "Pair: (3, 7)\n",
      "Pair: (3, 8)\n",
      "Pair: (3, 9)\n",
      "Pair: (4, 0)\n",
      "Pair: (4, 1)\n",
      "Pair: (4, 2)\n",
      "Pair: (4, 3)\n",
      "Pair: (4, 4)\n",
      "Pair: (4, 5)\n",
      "Pair: (4, 6)\n",
      "Pair: (4, 7)\n",
      "Pair: (4, 8)\n",
      "Pair: (4, 9)\n",
      "Pair: (5, 0)\n",
      "Pair: (5, 1)\n",
      "Pair: (5, 2)\n",
      "Pair: (5, 3)\n",
      "Pair: (5, 4)\n",
      "Pair: (5, 5)\n",
      "Pair: (5, 6)\n",
      "Pair: (5, 7)\n",
      "Pair: (5, 8)\n",
      "Pair: (5, 9)\n",
      "Pair: (6, 0)\n",
      "Pair: (6, 1)\n",
      "Pair: (6, 2)\n",
      "Pair: (6, 3)\n",
      "Pair: (6, 4)\n",
      "Pair: (6, 5)\n",
      "Pair: (6, 6)\n",
      "Pair: (6, 7)\n",
      "Pair: (6, 8)\n",
      "Pair: (6, 9)\n",
      "Pair: (7, 0)\n",
      "Pair: (7, 1)\n",
      "Pair: (7, 2)\n",
      "Pair: (7, 3)\n",
      "Pair: (7, 4)\n",
      "Pair: (7, 5)\n",
      "Pair: (7, 6)\n",
      "Pair: (7, 7)\n",
      "Pair: (7, 8)\n",
      "Pair: (7, 9)\n",
      "Pair: (8, 0)\n",
      "Pair: (8, 1)\n",
      "Pair: (8, 2)\n",
      "Pair: (8, 3)\n",
      "Pair: (8, 4)\n",
      "Pair: (8, 5)\n",
      "Pair: (8, 6)\n",
      "Pair: (8, 7)\n",
      "Pair: (8, 8)\n",
      "Pair: (8, 9)\n",
      "Pair: (9, 0)\n",
      "Pair: (9, 1)\n",
      "Pair: (9, 2)\n",
      "Pair: (9, 3)\n",
      "Pair: (9, 4)\n",
      "Pair: (9, 5)\n",
      "Pair: (9, 6)\n",
      "Pair: (9, 7)\n",
      "Pair: (9, 8)\n",
      "Pair: (9, 9)\n"
     ]
    }
   ],
   "source": [
    "const n = 10; // change this if you want.\n",
    "\n",
    "//TODO: Write an algorithm with O(n^2) time complexity\n",
    "//Hint: think about nested loops...\n",
    "\n",
    "// Example: Print all pairs of numbers from 0 to n-1\n",
    "for (let i = 0; i < n; i++) {\n",
    "    for (let j = 0; j < n; j++) {\n",
    "        console.log(`Pair: (${i}, ${j})`);\n",
    "    }\n",
    "}\n",
    "\n",
    "// This algorithm has O(n²) time complexity because:\n",
    "// - The outer loop runs n times\n",
    "// - For each iteration of the outer loop, the inner loop runs n times\n",
    "// - Total operations: n * n = n²\n",
    "// - Therefore: O(n²)"
   ]
  },
  {
   "cell_type": "markdown",
   "id": "26d353f3",
   "metadata": {},
   "source": [
    "### Hack 3: Gotta Go Fast!\n",
    "\n",
    "#### Objective: Optimize this algorithm so that it has a lower time complexity <strong>without modifying the outer loop</strong>"
   ]
  },
  {
   "cell_type": "code",
   "execution_count": 3,
   "id": "83acbe82",
   "metadata": {},
   "outputs": [
    {
     "name": "stdout",
     "output_type": "stream",
     "text": [
      "45\n"
     ]
    }
   ],
   "source": [
    "const n = 10; // change this\n",
    "let count = 0;\n",
    "\n",
    "for(let i = 0; i < n; i++) { // Outer loop, DO NOT MODIFY\n",
    "    count += i;  // Instead of inner loop, just add i to count\n",
    "}\n",
    "\n",
    "console.log(count);\n",
    "\n",
    "//TODO: Modify the algorithm so that it has a lower time complexity but same output, and keep the outer loop the same\n",
    "//Hint: This algorithm has a time complexity of O(n^2)."
   ]
  },
  {
   "cell_type": "markdown",
   "id": "e6e45a7b",
   "metadata": {},
   "source": [
    "### Hack 4: Extra Challenge \n",
    "\n",
    "#### Objective: Write an algorithm that does <strong>NOT</strong> have a time complexity of O(1), O(n), or O(n^x) and identify the time complexity\n",
    "##### (I will not accept O(n^3) or some other power, it needs to be more complex.)"
   ]
  },
  {
   "cell_type": "code",
   "execution_count": null,
   "id": "87c33c6e",
   "metadata": {},
   "outputs": [
    {
     "name": "stderr",
     "output_type": "stream",
     "text": [
      "17:9 - Type 'number' is not assignable to type '10'.\n"
     ]
    }
   ],
   "source": [
    "\n",
    "//TODO: Write an algorithm that has a more complicated time complexity than O(n^x).\n",
    "\n",
    "\n",
    "console.log(\"Algorithm with O(n log n) time complexity:\");\n",
    "console.log(\"=\".repeat(40));\n",
    "\n",
    "for (let i = 0; i < n; i++) {\n",
    "    // Outer loop runs n times\n",
    "    \n",
    "    let j = n;\n",
    "    while (j > 0) {\n",
    "        // Inner loop divides by 2 each time (logarithmic)\n",
    "        console.log(`i=${i}, j=${j}`);\n",
    "        j = Math.floor(j / 2);\n",
    "    }\n",
    "}\n",
    "\n",
    "console.log(\"\\n\" + \"=\".repeat(40));\n",
    "console.log(\"Time Complexity: O(n log n)\");\n",
    "console.log(\"\\nExplanation:\");\n",
    "console.log(\"- Outer loop: runs n times → O(n)\");\n",
    "console.log(\"- Inner loop: divides by 2 each iteration → O(log n)\");\n",
    "console.log(\"- Total: O(n) × O(log n) = O(n log n)\");\n",
    "console.log(\"\\nThis is NOT O(1), O(n), or O(n^x)!\");\n",
    "console.log(\"It's more complex - logarithmic within linear!\");"
   ]
  }
 ],
 "metadata": {
  "kernelspec": {
   "display_name": "JavaScript",
   "language": "javascript",
   "name": "jslab"
  },
  "language_info": {
   "file_extension": ".js",
   "mimetype": "text/javascript",
   "name": "javascript",
   "version": ""
  }
 },
 "nbformat": 4,
 "nbformat_minor": 5
}
