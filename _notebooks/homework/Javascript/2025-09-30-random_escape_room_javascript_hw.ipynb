{
 "cells": [
  {
   "cell_type": "raw",
   "id": "30ac88bd",
   "metadata": {
    "vscode": {
     "languageId": "raw"
    }
   },
   "source": [
    "---\n",
    "layout: post\n",
    "title: \"Escape Room 3.15 — Level 3 Random Values in JavaScript\"\n",
    "description: \"Drag-and-drop spinner algorithm, and demos using Math.random(), randint(), choice, and shuffle in JS\"\n",
    "type: lesson\n",
    "comments: false\n",
    "permalink: /3.15/level3-javascript\n",
    "---\n"
   ]
  },
  {
   "cell_type": "markdown",
   "id": "cbbfb22c",
   "metadata": {},
   "source": [
    "---\n",
    "layout: post\n",
    "title: \"Escape Room 3.15 - Hack\"\n",
    "description: \"Extended Javascript challenges and hacks for CSP 3.15 Escape Room - Random Values\"\n",
    "type: hacks\n",
    "toc: true\n",
    "comments: true\n",
    "permalink: /3.15/homework/javascript\n",
    "author: Team Debuggers\n",
    "---"
   ]
  },
  {
   "cell_type": "markdown",
   "id": "9f78ed1b",
   "metadata": {},
   "source": [
    "# 🚀 Escape Room Javascript Hacks"
   ]
  },
  {
   "cell_type": "markdown",
   "id": "8272187c",
   "metadata": {
    "vscode": {
     "languageId": "javascript"
    }
   },
   "source": [
    "1. Simulate drawing two random cards, where each card has a value between 1 and 10. Show the two card values and their total.\n"
   ]
  },
  {
   "cell_type": "code",
   "execution_count": 1,
   "id": "78a936d8",
   "metadata": {},
   "outputs": [
    {
     "name": "stdout",
     "output_type": "stream",
     "text": [
      "Card 1: 3\n",
      "Card 2: 9\n",
      "Total: 12\n"
     ]
    }
   ],
   "source": [
    "// 🎴 Simulate drawing two random cards between 1 and 10\n",
    "\n",
    "// TODO: Generate a random value between 1 and 10 for the first card\n",
    "let card1 = Math.floor(Math.random() * 10) + 1;\n",
    "\n",
    "// TODO: Generate a random value between 1 and 10 for the second card\n",
    "let card2 = Math.floor(Math.random() * 10) + 1;\n",
    "\n",
    "// TODO: Add the two card values together\n",
    "let total = card1 + card2;\n",
    "\n",
    "// TODO: Print out the results\n",
    "console.log(\"Card 1:\", card1);\n",
    "console.log(\"Card 2:\", card2);\n",
    "console.log(\"Total:\", total);\n"
   ]
  },
  {
   "cell_type": "markdown",
   "id": "1d1e615b",
   "metadata": {},
   "source": [
    "2. Create a decision maker where \"Definitely\" appears 30% of the time"
   ]
  },
  {
   "cell_type": "code",
   "execution_count": null,
   "id": "ccb86ba7",
   "metadata": {},
   "outputs": [
    {
     "name": "stdout",
     "output_type": "stream",
     "text": [
      "Not this time\n"
     ]
    }
   ],
   "source": [
    "// 🎲 Decision Maker\n",
    "// Goal: \"Definitely\" should appear about 30% of the time when you run this code\n",
    "\n",
    "// TODO: Generate a random number between 1 and 100\n",
    "let rand = Math.floor(Math.random() * 100) + 1;\n",
    "\n",
    "// TODO: Use an if statement to make \"Definitely\" appear 30% of the time\n",
    "if (rand <= 30) {\n",
    "  console.log(\"Definitely\");\n",
    "} else {\n",
    "  console.log(\"Not this time\");\n",
    "}\n"
   ]
  },
  {
   "cell_type": "markdown",
   "id": "3a1307fb",
   "metadata": {},
   "source": [
    "3. Simulate one coin flip and one dice roll.\n",
    "\n",
    "- The coin flip should be 0 = Heads or 1 = Tails.\n",
    "\n",
    "- The dice roll should be a number between 1 and 6.\n",
    "\n",
    "- Print out both results."
   ]
  },
  {
   "cell_type": "code",
   "execution_count": 3,
   "id": "5757bb69",
   "metadata": {},
   "outputs": [
    {
     "name": "stdout",
     "output_type": "stream",
     "text": [
      "Coin flip: 0\n",
      "Dice roll: 1\n"
     ]
    }
   ],
   "source": [
    "// 🪙 Simulate one coin flip and one dice roll\n",
    "\n",
    "// TODO: Generate a random value 0 or 1 for the coin\n",
    "let coin = Math.floor(Math.random() * 2);\n",
    "\n",
    "// TODO: Print out the coin flip result\n",
    "console.log(\"Coin flip:\", coin);\n",
    "\n",
    "// TODO: Generate a random value between 1 and 6 for the dice\n",
    "let dice = Math.floor(Math.random() * 6) + 1;\n",
    "\n",
    "// TODO: Print out the dice roll result\n",
    "console.log(\"Dice roll:\", dice);"
   ]
  },
  {
   "cell_type": "markdown",
   "id": "8b49e277",
   "metadata": {},
   "source": [
    "4. Write code that randomly picks one fortune from a list of 5 possible fortunes and prints it out."
   ]
  },
  {
   "cell_type": "code",
   "execution_count": null,
   "id": "dd613a02",
   "metadata": {},
   "outputs": [
    {
     "name": "stdout",
     "output_type": "stream",
     "text": [
      "Your fortune: Good things come to those who wait.\n"
     ]
    }
   ],
   "source": [
    "// 🔮 Random Fortune Generator\n",
    "\n",
    "// TODO: Make a list (array) of fortunes\n",
    "let fortunes = [\n",
    "  \"You will find great success in your next venture.\",\n",
    "  \"A pleasant surprise is waiting for you.\",\n",
    "  \"Your kindness will lead to an unexpected reward.\",\n",
    "  \"Adventure is just around the corner.\",\n",
    "  \"Good things come to those who wait.\"\n",
    "];\n",
    "\n",
    "// TODO: Pick a random index\n",
    "let index = Math.floor(Math.random() * fortunes.length);\n",
    "\n",
    "// TODO: Print out the fortune at that index\n",
    "console.log(\"Your fortune:\", fortunes[index]);\n"
   ]
  }
 ],
 "metadata": {
  "kernelspec": {
   "display_name": "JavaScript",
   "language": "javascript",
   "name": "jslab"
  },
  "language_info": {
   "file_extension": ".js",
   "mimetype": "text/javascript",
   "name": "javascript",
   "version": ""
  }
 },
 "nbformat": 4,
 "nbformat_minor": 5
}
