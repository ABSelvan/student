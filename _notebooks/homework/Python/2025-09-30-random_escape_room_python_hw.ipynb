{
 "cells": [
  {
   "cell_type": "raw",
   "id": "6e07d1a7",
   "metadata": {
    "vscode": {
     "languageId": "raw"
    }
   },
   "source": [
    "---\n",
    "layout: post\n",
    "title: \"Escape Room 3.15 - Hacks & Extensions\"\n",
    "description: \"Extended Python challenges and hacks for CSP 3.15 Escape Room - Random Values\"\n",
    "type: hacks\n",
    "toc: true\n",
    "comments: true\n",
    "permalink: /3.15/homework/python\n",
    "author: Team Debuggers\n",
    "---\n"
   ]
  },
  {
   "cell_type": "markdown",
   "id": "9f874417",
   "metadata": {},
   "source": [
    "# 🚀 Escape Room Python Hacks\n"
   ]
  },
  {
   "cell_type": "markdown",
   "id": "7aedbe34",
   "metadata": {},
   "source": [
    "1. Simulate rolling two dice and show all possible sums of their outcomes."
   ]
  },
  {
   "cell_type": "code",
   "execution_count": 1,
   "id": "a73638bf",
   "metadata": {},
   "outputs": [
    {
     "name": "stdout",
     "output_type": "stream",
     "text": [
      "=== Rolling Two Dice - All Possible Sums ===\n",
      "\n",
      "Die 1: 1, Die 2: 1 → Sum: 2\n",
      "Die 1: 1, Die 2: 2 → Sum: 3\n",
      "Die 1: 1, Die 2: 3 → Sum: 4\n",
      "Die 1: 1, Die 2: 4 → Sum: 5\n",
      "Die 1: 1, Die 2: 5 → Sum: 6\n",
      "Die 1: 1, Die 2: 6 → Sum: 7\n",
      "Die 1: 2, Die 2: 1 → Sum: 3\n",
      "Die 1: 2, Die 2: 2 → Sum: 4\n",
      "Die 1: 2, Die 2: 3 → Sum: 5\n",
      "Die 1: 2, Die 2: 4 → Sum: 6\n",
      "Die 1: 2, Die 2: 5 → Sum: 7\n",
      "Die 1: 2, Die 2: 6 → Sum: 8\n",
      "Die 1: 3, Die 2: 1 → Sum: 4\n",
      "Die 1: 3, Die 2: 2 → Sum: 5\n",
      "Die 1: 3, Die 2: 3 → Sum: 6\n",
      "Die 1: 3, Die 2: 4 → Sum: 7\n",
      "Die 1: 3, Die 2: 5 → Sum: 8\n",
      "Die 1: 3, Die 2: 6 → Sum: 9\n",
      "Die 1: 4, Die 2: 1 → Sum: 5\n",
      "Die 1: 4, Die 2: 2 → Sum: 6\n",
      "Die 1: 4, Die 2: 3 → Sum: 7\n",
      "Die 1: 4, Die 2: 4 → Sum: 8\n",
      "Die 1: 4, Die 2: 5 → Sum: 9\n",
      "Die 1: 4, Die 2: 6 → Sum: 10\n",
      "Die 1: 5, Die 2: 1 → Sum: 6\n",
      "Die 1: 5, Die 2: 2 → Sum: 7\n",
      "Die 1: 5, Die 2: 3 → Sum: 8\n",
      "Die 1: 5, Die 2: 4 → Sum: 9\n",
      "Die 1: 5, Die 2: 5 → Sum: 10\n",
      "Die 1: 5, Die 2: 6 → Sum: 11\n",
      "Die 1: 6, Die 2: 1 → Sum: 7\n",
      "Die 1: 6, Die 2: 2 → Sum: 8\n",
      "Die 1: 6, Die 2: 3 → Sum: 9\n",
      "Die 1: 6, Die 2: 4 → Sum: 10\n",
      "Die 1: 6, Die 2: 5 → Sum: 11\n",
      "Die 1: 6, Die 2: 6 → Sum: 12\n",
      "\n",
      "=== Sum Frequency ===\n",
      "Sum 2: 1 times\n",
      "Sum 3: 2 times\n",
      "Sum 4: 3 times\n",
      "Sum 5: 4 times\n",
      "Sum 6: 5 times\n",
      "Sum 7: 6 times\n",
      "Sum 8: 5 times\n",
      "Sum 9: 4 times\n",
      "Sum 10: 3 times\n",
      "Sum 11: 2 times\n",
      "Sum 12: 1 times\n",
      "\n",
      "Total possible outcomes: 36 = 36\n"
     ]
    }
   ],
   "source": [
    "# 🎲 Die faces: 1, 2, 3, 4, 5, 6\n",
    "# TODO: Write code to calculate and display all possible sums\n",
    "# Hint: You may need two nested loops\n",
    "\n",
    "print(\"=== Rolling Two Dice - All Possible Sums ===\\n\")\n",
    "\n",
    "# Nested loops to simulate all combinations of two dice\n",
    "for die1 in range(1, 7):  # First die: 1-6\n",
    "    for die2 in range(1, 7):  # Second die: 1-6\n",
    "        total = die1 + die2\n",
    "        print(f\"Die 1: {die1}, Die 2: {die2} → Sum: {total}\")\n",
    "\n",
    "# Bonus: Show frequency of each sum\n",
    "print(\"\\n=== Sum Frequency ===\")\n",
    "sum_counts = {}\n",
    "\n",
    "for die1 in range(1, 7):\n",
    "    for die2 in range(1, 7):\n",
    "        total = die1 + die2\n",
    "        if total in sum_counts:\n",
    "            sum_counts[total] += 1\n",
    "        else:\n",
    "            sum_counts[total] = 1\n",
    "\n",
    "for sum_value in sorted(sum_counts.keys()):\n",
    "    print(f\"Sum {sum_value}: {sum_counts[sum_value]} times\")\n",
    "\n",
    "print(f\"\\nTotal possible outcomes: {6 * 6} = 36\")"
   ]
  },
  {
   "cell_type": "markdown",
   "id": "323ac43a",
   "metadata": {},
   "source": [
    "2. Create a fortune teller program. The response \"Try Again\" should appear 40% of the time, while the other possible responses are \"Yes\", \"No\", and \"Maybe\"."
   ]
  },
  {
   "cell_type": "code",
   "execution_count": 3,
   "id": "c608c7e8",
   "metadata": {},
   "outputs": [
    {
     "name": "stdout",
     "output_type": "stream",
     "text": [
      "Yes\n",
      "\n",
      "=== Testing Distribution (1000 runs) ===\n",
      "Try Again: 39.6% (target: 40%)\n",
      "Yes: 21.2% (target: 20%)\n",
      "No: 21.4% (target: 20%)\n",
      "Maybe: 17.8% (target: 20%)\n"
     ]
    }
   ],
   "source": [
    "import random\n",
    "\n",
    "# 🔮 Fortune Teller\n",
    "# TODO: Generate a random number between 1 and 100\n",
    "\n",
    "num = random.randint(1, 100)\n",
    "\n",
    "if num <= 40:\n",
    "    print(\"Try Again\")\n",
    "elif num <= 60:\n",
    "    print(\"Yes\")\n",
    "elif num <= 80:\n",
    "    print(\"No\")\n",
    "else:\n",
    "    print(\"Maybe\")\n",
    "\n",
    "# Test the distribution (optional)\n",
    "print(\"\\n=== Testing Distribution (1000 runs) ===\")\n",
    "counts = {\"Try Again\": 0, \"Yes\": 0, \"No\": 0, \"Maybe\": 0}\n",
    "\n",
    "for _ in range(1000):\n",
    "    test_num = random.randint(1, 100)\n",
    "    if test_num <= 40:\n",
    "        counts[\"Try Again\"] += 1\n",
    "    elif test_num <= 60:\n",
    "        counts[\"Yes\"] += 1\n",
    "    elif test_num <= 80:\n",
    "        counts[\"No\"] += 1\n",
    "    else:\n",
    "        counts[\"Maybe\"] += 1\n",
    "\n",
    "print(f\"Try Again: {counts['Try Again']/10}% (target: 40%)\")\n",
    "print(f\"Yes: {counts['Yes']/10}% (target: 20%)\")\n",
    "print(f\"No: {counts['No']/10}% (target: 20%)\")\n",
    "print(f\"Maybe: {counts['Maybe']/10}% (target: 20%)\")"
   ]
  },
  {
   "cell_type": "markdown",
   "id": "f5f6ad02",
   "metadata": {},
   "source": [
    "3. Create a program that randomly selects a meal from a menu list. For example: \"Pizza\", \"Burger\", \"Salad\", \"Pasta\", \"Sushi\"."
   ]
  },
  {
   "cell_type": "code",
   "execution_count": 4,
   "id": "623d5cec",
   "metadata": {},
   "outputs": [
    {
     "name": "stdout",
     "output_type": "stream",
     "text": [
      "🍽️ What should you eat today?\n",
      "How about: Burger!\n",
      "\n",
      "=== Want more suggestions? ===\n",
      "Here are 3 random meal ideas:\n",
      "1. Pizza\n",
      "2. Salad\n",
      "3. Burger\n"
     ]
    }
   ],
   "source": [
    "import random\n",
    "\n",
    "# 🍔 Menu list of meals\n",
    "meals = [\"Pizza\", \"Burger\", \"Salad\", \"Pasta\", \"Sushi\"]\n",
    "\n",
    "# TODO: Pick one random meal from the list\n",
    "selected_meal = random.choice(meals)\n",
    "\n",
    "print(\"🍽️ What should you eat today?\")\n",
    "print(f\"How about: {selected_meal}!\")\n",
    "\n",
    "# Bonus: Let user pick multiple random meals\n",
    "print(\"\\n=== Want more suggestions? ===\")\n",
    "num_suggestions = 3\n",
    "print(f\"Here are {num_suggestions} random meal ideas:\")\n",
    "suggestions = random.sample(meals, min(num_suggestions, len(meals)))\n",
    "for i, meal in enumerate(suggestions, 1):\n",
    "    print(f\"{i}. {meal}\")\n"
   ]
  },
  {
   "cell_type": "markdown",
   "id": "e230199d",
   "metadata": {},
   "source": [
    "4. Practice using random.choice() and random.shuffle().\n",
    "\n",
    "- Use random.choice() to select one random card from a deck.\n",
    "\n",
    "- Use random.shuffle() to shuffle the entire deck."
   ]
  },
  {
   "cell_type": "code",
   "execution_count": 5,
   "id": "9efcd451",
   "metadata": {},
   "outputs": [
    {
     "name": "stdout",
     "output_type": "stream",
     "text": [
      "Original deck: [1, 2, 3, 4, 5, 6, 7, 8, 9, 10]\n",
      "\n",
      "Random card selected: 5\n",
      "\n",
      "Shuffling the deck...\n",
      "Shuffled deck: [9, 6, 8, 2, 5, 3, 1, 4, 7, 10]\n",
      "\n",
      "=== Multiple Shuffle Demo ===\n",
      "Shuffle 1: [8, 9, 3, 10, 1, 6, 7, 5, 4, 2]\n",
      "Shuffle 2: [2, 3, 5, 10, 6, 4, 8, 1, 9, 7]\n",
      "Shuffle 3: [3, 6, 2, 1, 9, 4, 8, 7, 10, 5]\n"
     ]
    }
   ],
   "source": [
    "import random\n",
    "\n",
    "# 🃏 Deck of cards (simplified as numbers 1-10 for this example)\n",
    "deck = [1, 2, 3, 4, 5, 6, 7, 8, 9, 10]\n",
    "\n",
    "print(\"Original deck:\", deck)\n",
    "print()\n",
    "\n",
    "# TODO: Use random.choice() to pick one card\n",
    "selected_card = random.choice(deck)\n",
    "print(f\"Random card selected: {selected_card}\")\n",
    "print()\n",
    "\n",
    "# TODO: Use random.shuffle() to shuffle the deck and print it\n",
    "print(\"Shuffling the deck...\")\n",
    "random.shuffle(deck)\n",
    "print(\"Shuffled deck:\", deck)\n",
    "print()\n",
    "\n",
    "# Bonus: Show multiple shuffles\n",
    "print(\"=== Multiple Shuffle Demo ===\")\n",
    "for i in range(3):\n",
    "    random.shuffle(deck)\n",
    "    print(f\"Shuffle {i+1}: {deck}\")"
   ]
  }
 ],
 "metadata": {
  "kernelspec": {
   "display_name": "venv",
   "language": "python",
   "name": "python3"
  },
  "language_info": {
   "codemirror_mode": {
    "name": "ipython",
    "version": 3
   },
   "file_extension": ".py",
   "mimetype": "text/x-python",
   "name": "python",
   "nbconvert_exporter": "python",
   "pygments_lexer": "ipython3",
   "version": "3.13.7"
  }
 },
 "nbformat": 4,
 "nbformat_minor": 5
}
